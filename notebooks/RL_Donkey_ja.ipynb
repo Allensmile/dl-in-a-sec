{
  "nbformat": 4,
  "nbformat_minor": 0,
  "metadata": {
    "colab": {
      "name": "自動運転を学習する",
      "version": "0.3.2",
      "provenance": [],
      "collapsed_sections": [],
      "toc_visible": true
    },
    "language_info": {
      "codemirror_mode": {
        "name": "ipython",
        "version": 3
      },
      "file_extension": ".py",
      "mimetype": "text/x-python",
      "name": "python",
      "nbconvert_exporter": "python",
      "pygments_lexer": "ipython3",
      "version": "3.6.3"
    },
    "kernelspec": {
      "display_name": "Python 3",
      "language": "python",
      "name": "python3"
    },
    "accelerator": "GPU"
  },
  "cells": [
    {
      "cell_type": "markdown",
      "metadata": {
        "colab_type": "text",
        "id": "XumXgZKAQU3l"
      },
      "source": [
        "# 自動運転を学習する\n",
        "\n",
        "Stable BaselinesとRL Baselines Zooを用いて、強化学習による自動運転を試します。\n",
        "\n",
        "こちらのブログ([Learning to Drive Smoothly in Minutes – Towards Data Science](https://towardsdatascience.com/learning-to-drive-smoothly-in-minutes-450a7cdb35f4))の内容をステップ・バイ・ステップで再現してみます。\n",
        "\n",
        "ただし、本ノートブックは**Colaboratoryだけで実行することができません。みなさんのMac, Windows, Linuxローカル環境=お手元のPC\n",
        "を使って試す必要がありますのでご注意ください。**\n",
        "\n",
        "このノートブックは以下の内容を含みます。\n",
        "\n",
        "- 環境準備\n",
        "- Gym環境とエージェントを作成\n",
        "- エージェントの学習と評価\n",
        "- 1行のコマンドで学習\n",
        "- リプレイ\n"
      ]
    },
    {
      "cell_type": "markdown",
      "metadata": {
        "colab_type": "text",
        "id": "C-T7Ib9WQ7vD"
      },
      "source": [
        "## A. 環境を準備する\n",
        "\n",
        "Stable Baselinesと依存ライブラリをインストールします。"
      ]
    },
    {
      "cell_type": "markdown",
      "metadata": {
        "id": "l3xrYK9U7xrK",
        "colab_type": "text"
      },
      "source": [
        "### 1. ローカル環境にPythonをセットアップ\n",
        "\n",
        "今回使うのはPython 3.x系です。セットアップには色々な方法があります。ここでは、JupyterLab, Jupyter Notebooksや、他によく使う科学技術計算系パッケージをまとめてくれている[Anaconda](https://www.anaconda.com/)を使ったインストールを紹介します。\n",
        "\n",
        "もともと、ご自身でPython 3.x系環境をセットアップされている場合、こちらのステップは飛ばしてください。また、pyenvなど他の方法でセットアップしても問題ありません。\n",
        "\n",
        "\n",
        "#### WIndowsの場合\n",
        "\n",
        "[Anaconda を Windows にインストールする手順 | WEB ARCH LABO](https://weblabo.oscasierra.net/python-anaconda-install-windows/)などの記事を参考に、セットアップします。\n",
        "\n",
        "\n",
        "#### Mac OSXの場合\n",
        "\n",
        "[Anaconda を macOS にインストールする手順 | WEB ARCH LABO](https://weblabo.oscasierra.net/python-anaconda-install-macos/)などの記事を参考に、セットアップします。\n"
      ]
    },
    {
      "cell_type": "markdown",
      "metadata": {
        "id": "GBueGC5ZTqgs",
        "colab_type": "text"
      },
      "source": [
        "### 2. ノートブックをダウンロードし、ローカル環境で開く\n",
        "\n",
        "`ファイル > .ipynbをダウンロード` から、このノートブックをダウンロードします。\n",
        "\n",
        "適当なパスに保存したら、Anaconda NavigatorからJupyterLab、またはJupyter Notebookを起動し、ノートブックを開きましょう。コマンドラインから起動しても構いません。"
      ]
    },
    {
      "cell_type": "markdown",
      "metadata": {
        "id": "CPOgmLm3iGXA",
        "colab_type": "text"
      },
      "source": [
        "### 3. 必要なライブラリのインストール\n",
        "\n",
        "このセルを、ローカル環境で立ち上げたJupyterで開いてますか？それではローカル環境に、以下および依存するライブラリを導入します。"
      ]
    },
    {
      "cell_type": "code",
      "metadata": {
        "id": "QeuE141B44yM",
        "colab_type": "code",
        "colab": {}
      },
      "source": [
        "!pip install tensorflow stable_baselines pygame"
      ],
      "execution_count": 0,
      "outputs": []
    },
    {
      "cell_type": "markdown",
      "metadata": {
        "id": "VNbHNJ94f-GE",
        "colab_type": "text"
      },
      "source": [
        "### 2. learning-to-drive-in-5minutesのコピー\n",
        "\n",
        "gitがインストールされていたら、以下のコマンドで [araffin/learning-to-drive-in-5-minutes](https://github.com/araffin/learning-to-drive-in-5-minutes) のGitHubリポジトリ内容を、ローカルにコピーします。\n",
        "\n",
        "gitがインストールされていない場合は、上のリポジトリトップページから、zipでダウンロードし、ノートブックと同じ階層に、 `learning-to-drive-in-5-minutes` というディレクトリを作り、保存します(zipは、同ディレクトリに、必要ファイルが入った状態で解凍されるはずです)。"
      ]
    },
    {
      "cell_type": "code",
      "metadata": {
        "id": "czGOSimif0J_",
        "colab_type": "code",
        "colab": {}
      },
      "source": [
        "!git clone https://github.com/araffin/learning-to-drive-in-5-minutes.git\n",
        "%cd learning-to-drive-in-5-minutes"
      ],
      "execution_count": 0,
      "outputs": []
    },
    {
      "cell_type": "markdown",
      "metadata": {
        "colab_type": "text",
        "id": "t5WNF6G5gWZ1"
      },
      "source": [
        "## B. Gym環境を準備する\n",
        "\n",
        "Donkey Simulatorという、自動運転のシミュレーション環境をセットアップします。\n",
        "\n",
        "以下のいずれかの方法で、みなさんのお手元のマシンで動かせる状態にします。\n",
        "\n",
        "- ビルド済みの実行ファイルをダウンロードする\n",
        "  - [tawnkramer/sdsandbox at donkey](https://github.com/tawnkramer/sdsandbox/tree/donkey)のソースから、筆者がMac用/ Windows用の実行ファイルをビルドしたものです\n",
        "\t  - [Donkey Simulator(Mac OSX版)のダウンロード](https://github.com/tomo-makes/dl-in-a-sec/blob/master/binaries/donkeysim_mac.zip)\n",
        "\t  - [Donkey Simulator(Windows版)のダウンロード](https://github.com/tomo-makes/dl-in-a-sec/blob/master/binaries/donkeysim_win.zip)\n",
        "    \n",
        "   - [araffin/learning-to-drive-in-5-minutes](https://github.com/araffin/learning-to-drive-in-5-minutes)のGitHubリポジトリには、[Linux用のバイナリ](https://drive.google.com/open?id=1h2VfpGHlZetL5RAPZ79bhDRkvlfuB4Wb)も公開されています(筆者は動作未確認です)\n",
        "- ソースからビルドする\n",
        "  - Unityをインストールする\n",
        "  - Unityで[tawnkramer/sdsandbox at donkey](https://github.com/tawnkramer/sdsandbox/tree/donkey)のプロジェクトファイル、ソースコードを読み込む\n",
        "  - 対象のプラットフォーム向けにビルドする"
      ]
    },
    {
      "cell_type": "markdown",
      "metadata": {
        "id": "qJzpXfLEiGXM",
        "colab_type": "text"
      },
      "source": [
        "## C. その他の処理を準備する\n",
        "\n",
        "学習済みモデルをダウンロードします。\n",
        "再び、[araffin/learning-to-drive-in-5-minutes: Implementation of reinforcement learning approach to make a car learn to drive smoothly in minutes](https://github.com/araffin/learning-to-drive-in-5-minutes)から、以下をダウンロードします。\n",
        "\n",
        "- Level 0環境用\n",
        "  - [学習済みVAE](https://drive.google.com/open?id=1n7FosFA0hALhuESf1j1yg-hERCnfVc4b)\n",
        "  - [学習済みエージェント](https://drive.google.com/open?id=10Hgd5BKfn1AmmVdLlNcDll6yXqVkujoq)\n",
        "\n",
        "**学習済みVAE**は、 `vae-level-0-dim-32.pkl` という名前に変更しておきましょう。"
      ]
    },
    {
      "cell_type": "markdown",
      "metadata": {
        "id": "mV4E26FOiGXN",
        "colab_type": "text"
      },
      "source": [
        "## D. モデルを作成する\n",
        "\n",
        "stable-baselinesを使ったモデルの作成は、さきほどコピーしたリポジトリ内の、train.py内に記述されています。\n",
        "\n",
        "```\n",
        "model = ALGOS[args.algo].load(args.trained_agent, env=env, tensorboard_log=tensorboard_log, verbose=1, **hyperparams)\n",
        "```\n",
        "\n",
        "コマンド実行時の引数で、モデルを選ぶことができます。"
      ]
    },
    {
      "cell_type": "markdown",
      "metadata": {
        "colab_type": "text",
        "id": "r5UoXTZPNdFE"
      },
      "source": [
        "## E. エージェントを学習させる\n"
      ]
    },
    {
      "cell_type": "markdown",
      "metadata": {
        "colab_type": "text",
        "id": "z4xelDCZLwci"
      },
      "source": [
        "### 2. エージェントを学習させる\n",
        "\n",
        "試しにxステップ学習を進めてみます。所要時間はx分程度です。\n"
      ]
    },
    {
      "cell_type": "code",
      "metadata": {
        "colab_type": "code",
        "id": "e4cfSXIB-pTF",
        "colab": {}
      },
      "source": [
        "!python train.py --algo sac -vae vae-level-0-dim-32.pkl "
      ],
      "execution_count": 0,
      "outputs": []
    },
    {
      "cell_type": "markdown",
      "metadata": {
        "id": "9Io2S8HniGXn",
        "colab_type": "text"
      },
      "source": [
        "## F. 学習済みエージェントの評価"
      ]
    },
    {
      "cell_type": "markdown",
      "metadata": {
        "id": "eiUFcGNtiGXs",
        "colab_type": "text"
      },
      "source": [
        "### 1. 学習済みエージェントの振る舞いを見る\n",
        "\n",
        "実際の振る舞いを再生してみましょう。うまくバランスを制御できていることが分かります。"
      ]
    },
    {
      "cell_type": "code",
      "metadata": {
        "id": "z_GLm3n3iGXt",
        "colab_type": "code",
        "colab": {}
      },
      "source": [
        "!python enjoy.py --algo sac -vae vae-level-0-dim-32.pkl --exp-id 0 -n 2000"
      ],
      "execution_count": 0,
      "outputs": []
    },
    {
      "cell_type": "markdown",
      "metadata": {
        "id": "J7oZG13dkmbq",
        "colab_type": "text"
      },
      "source": [
        "## まとめと発展\n",
        "\n",
        "このノートブックでは、仮想環境における自動運転を試してみました。\n",
        "\n",
        "Level 0環境だけでなく、Level 1環境で試したい場合は、同ディレクトリの `config.py` で、 `LEVEL = 0` を、 `LEVEL = 1` に書き換えることで試せます。\n",
        "\n",
        "また、Donkey Carを制作すると、ここで学習したモデルを実際にラジコンに積み込んで動かすこともできます。"
      ]
    },
    {
      "cell_type": "code",
      "metadata": {
        "id": "RG_1UdQbk15u",
        "colab_type": "code",
        "colab": {}
      },
      "source": [
        ""
      ],
      "execution_count": 0,
      "outputs": []
    }
  ]
}