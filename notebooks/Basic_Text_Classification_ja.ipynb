{
 "cells": [
  {
   "cell_type": "markdown",
   "metadata": {
    "colab_type": "text",
    "id": "YGjgJiN2xrOZ"
   },
   "source": [
    "##### Copyright 2018 The TensorFlow Authors.\n",
    "\n",
    "##### Modifications Copyright 2019 Tomoaki Masuda."
   ]
  },
  {
   "cell_type": "code",
   "execution_count": null,
   "metadata": {
    "colab": {},
    "colab_type": "code",
    "id": "w2jnRPhYxrOb"
   },
   "outputs": [],
   "source": [
    "#@title Licensed under the Apache License, Version 2.0 (the \"License\");\n",
    "# you may not use this file except in compliance with the License.\n",
    "# You may obtain a copy of the License at\n",
    "#\n",
    "# https://www.apache.org/licenses/LICENSE-2.0\n",
    "#\n",
    "# Unless required by applicable law or agreed to in writing, software\n",
    "# distributed under the License is distributed on an \"AS IS\" BASIS,\n",
    "# WITHOUT WARRANTIES OR CONDITIONS OF ANY KIND, either express or implied.\n",
    "# See the License for the specific language governing permissions and\n",
    "# limitations under the License."
   ]
  },
  {
   "cell_type": "code",
   "execution_count": null,
   "metadata": {
    "colab": {},
    "colab_type": "code",
    "id": "YI1rVCDzxrOe"
   },
   "outputs": [],
   "source": [
    "#@title MIT License\n",
    "#\n",
    "# Copyright (c) 2017 François Chollet\n",
    "#\n",
    "# Permission is hereby granted, free of charge, to any person obtaining a\n",
    "# copy of this software and associated documentation files (the \"Software\"),\n",
    "# to deal in the Software without restriction, including without limitation\n",
    "# the rights to use, copy, modify, merge, publish, distribute, sublicense,\n",
    "# and/or sell copies of the Software, and to permit persons to whom the\n",
    "# Software is furnished to do so, subject to the following conditions:\n",
    "#\n",
    "# The above copyright notice and this permission notice shall be included in\n",
    "# all copies or substantial portions of the Software.\n",
    "#\n",
    "# THE SOFTWARE IS PROVIDED \"AS IS\", WITHOUT WARRANTY OF ANY KIND, EXPRESS OR\n",
    "# IMPLIED, INCLUDING BUT NOT LIMITED TO THE WARRANTIES OF MERCHANTABILITY,\n",
    "# FITNESS FOR A PARTICULAR PURPOSE AND NONINFRINGEMENT. IN NO EVENT SHALL\n",
    "# THE AUTHORS OR COPYRIGHT HOLDERS BE LIABLE FOR ANY CLAIM, DAMAGES OR OTHER\n",
    "# LIABILITY, WHETHER IN AN ACTION OF CONTRACT, TORT OR OTHERWISE, ARISING\n",
    "# FROM, OUT OF OR IN CONNECTION WITH THE SOFTWARE OR THE USE OR OTHER\n",
    "# DEALINGS IN THE SOFTWARE."
   ]
  },
  {
   "cell_type": "markdown",
   "metadata": {},
   "source": [
    "このノートブックは、以下のノートブックを元に日本語訳、一部章立ての再構成、加筆を行いました。https://github.com/tensorflow/docs/blob/master/site/en/tutorials/keras/basic_text_classification.ipynb"
   ]
  },
  {
   "cell_type": "markdown",
   "metadata": {
    "colab_type": "text",
    "id": "GBj2ktQDxrOh"
   },
   "source": [
    "\n",
    "# 映画情報サイトにあるレビューを識別する\n"
   ]
  },
  {
   "cell_type": "markdown",
   "metadata": {
    "colab_type": "text",
    "id": "oKQ5YSCexrOj"
   },
   "source": [
    "\n",
    "このノートブックは、映画レビューの文章を、*ポジティブな評価*か*ネガティブな評価*かの二種類に分類します。これは、二項分類や二クラス分類と呼ばれ、重要かつ幅広く使える機械学習のタスクのひとつです。 \n",
    "\n",
    " [Internet Movie Database](https://www.imdb.com/)から5万の映画レビュー文章を集めたデータセットである、[IMDBデータセット](https://www.tensorflow.org/api_docs/python/tf/keras/datasets/imdb)を使います。これは学習用2万5千レビューとテスト用2万5千レビューに分けられます。学習セットとテストセットはポジティブ、ネガティブ同数のレビューが含まれます（balanced）。 \n",
    "\n",
    "このノートブックはTensorFlowでモデルを構築し学習するための高レベルAPI [tf.keras](https://www.tensorflow.org/guide/keras)を使います。 `tf.keras`を使用したより高度なテキスト分類チュートリアルは、 [MLCCテキスト分類ガイド](https://developers.google.com/machine-learning/guides/text-classification/)を参照してください。 \n"
   ]
  },
  {
   "cell_type": "markdown",
   "metadata": {},
   "source": [
    "\n",
    "## A. 環境を準備する\n",
    "\n",
    "必要なライブラリのインストール、インポートを行います。"
   ]
  },
  {
   "cell_type": "code",
   "execution_count": 1,
   "metadata": {
    "colab": {
     "base_uri": "https://localhost:8080/",
     "height": 34
    },
    "colab_type": "code",
    "executionInfo": {
     "elapsed": 1731,
     "status": "ok",
     "timestamp": 1553304386738,
     "user": {
      "displayName": "Tomo Masuda",
      "photoUrl": "https://lh5.googleusercontent.com/-xWkmNceNhGQ/AAAAAAAAAAI/AAAAAAAAB60/DG3sdpAeNVE/s64/photo.jpg",
      "userId": "04052575624663243173"
     },
     "user_tz": -540
    },
    "id": "5iguN9LGxrOk",
    "outputId": "50b1da27-844e-41cc-b736-c56dd96427bf"
   },
   "outputs": [
    {
     "name": "stdout",
     "output_type": "stream",
     "text": [
      "1.13.1\n"
     ]
    }
   ],
   "source": [
    "import tensorflow as tf\n",
    "from tensorflow import keras\n",
    "\n",
    "import numpy as np\n",
    "\n",
    "print(tf.__version__)"
   ]
  },
  {
   "cell_type": "markdown",
   "metadata": {},
   "source": [
    "\n",
    "## B. データセットを準備する\n"
   ]
  },
  {
   "cell_type": "markdown",
   "metadata": {
    "colab_type": "text",
    "id": "lXI8AdMuxrOm"
   },
   "source": [
    "### 1. IMDBデータセットをダウンロードする\n",
    "\n",
    " IMDBデータセットはTensorFlowに同梱されています。レビュー（単語の並び）が整数の並びに変換されるよう、すでに前処理されています。各整数は辞書内の特定の単語を表します。 \n",
    "\n",
    "次のコードで、IMDBデータセットをダウンロードします（すでにダウンロード済みの場合はキャッシュコピーを使用します）。 \n"
   ]
  },
  {
   "cell_type": "code",
   "execution_count": 2,
   "metadata": {
    "colab": {
     "base_uri": "https://localhost:8080/",
     "height": 68
    },
    "colab_type": "code",
    "executionInfo": {
     "elapsed": 41820,
     "status": "ok",
     "timestamp": 1553304432503,
     "user": {
      "displayName": "Tomo Masuda",
      "photoUrl": "https://lh5.googleusercontent.com/-xWkmNceNhGQ/AAAAAAAAAAI/AAAAAAAAB60/DG3sdpAeNVE/s64/photo.jpg",
      "userId": "04052575624663243173"
     },
     "user_tz": -540
    },
    "id": "_vY-ROKbxrOn",
    "outputId": "ced05649-25e0-4a4f-cf8d-b48a662626eb"
   },
   "outputs": [
    {
     "name": "stdout",
     "output_type": "stream",
     "text": [
      "Downloading data from https://storage.googleapis.com/tensorflow/tf-keras-datasets/imdb.npz\n",
      "17465344/17464789 [==============================] - 0s 0us/step\n",
      "17473536/17464789 [==============================] - 1s 0us/step\n"
     ]
    }
   ],
   "source": [
    "imdb = keras.datasets.imdb\n",
    "\n",
    "(train_data, train_labels), (test_data, test_labels) = imdb.load_data(num_words=10000)"
   ]
  },
  {
   "cell_type": "markdown",
   "metadata": {
    "colab_type": "text",
    "id": "It6WhG12xrOq"
   },
   "source": [
    "\n",
    "引数`num_words=10000`で、学習データセット中、最も頻繁に出現する上位1万語のみ保持するよう指定します。データのサイズが大きくなり過ぎないよう、あまり出てこない単語は破棄されます。 \n"
   ]
  },
  {
   "cell_type": "markdown",
   "metadata": {
    "colab_type": "text",
    "id": "AvRq7MeQxrOr"
   },
   "source": [
    "\n",
    "### 2. データセットの中身を見てみる\n",
    "\n",
    "少し時間をかけて、データのフォーマットを理解しましょう。データセットは前処理されています。各例は、映画レビューの単語を表す整数の並び（配列）です。各ラベルは0または1の整数値です。0は否定的なレビュー、1は肯定的なレビューを表します。 \n"
   ]
  },
  {
   "cell_type": "markdown",
   "metadata": {
    "colab_type": "text",
    "id": "VaTgE3KyKMmk"
   },
   "source": []
  },
  {
   "cell_type": "code",
   "execution_count": 3,
   "metadata": {
    "colab": {
     "base_uri": "https://localhost:8080/",
     "height": 34
    },
    "colab_type": "code",
    "executionInfo": {
     "elapsed": 657,
     "status": "ok",
     "timestamp": 1553304445270,
     "user": {
      "displayName": "Tomo Masuda",
      "photoUrl": "https://lh5.googleusercontent.com/-xWkmNceNhGQ/AAAAAAAAAAI/AAAAAAAAB60/DG3sdpAeNVE/s64/photo.jpg",
      "userId": "04052575624663243173"
     },
     "user_tz": -540
    },
    "id": "7Qu3dfyDxrOt",
    "outputId": "f795bebd-762f-4958-c6fa-5ab571beb869"
   },
   "outputs": [
    {
     "name": "stdout",
     "output_type": "stream",
     "text": [
      "Training entries: 25000, labels: 25000\n"
     ]
    }
   ],
   "source": [
    "print(\"Training entries: {}, labels: {}\".format(len(train_data), len(train_labels)))"
   ]
  },
  {
   "cell_type": "markdown",
   "metadata": {
    "colab_type": "text",
    "id": "d504bc4UxrOx"
   },
   "source": [
    "\n",
    "レビューのテキストは整数に変換され、各整数は辞書内にある単語を表します。最初のレビューは次のようになります。 \n"
   ]
  },
  {
   "cell_type": "code",
   "execution_count": 4,
   "metadata": {
    "colab": {
     "base_uri": "https://localhost:8080/",
     "height": 54
    },
    "colab_type": "code",
    "executionInfo": {
     "elapsed": 762,
     "status": "ok",
     "timestamp": 1553304448479,
     "user": {
      "displayName": "Tomo Masuda",
      "photoUrl": "https://lh5.googleusercontent.com/-xWkmNceNhGQ/AAAAAAAAAAI/AAAAAAAAB60/DG3sdpAeNVE/s64/photo.jpg",
      "userId": "04052575624663243173"
     },
     "user_tz": -540
    },
    "id": "XcykwkYBxrOy",
    "outputId": "392dea32-02d6-431a-a97f-289d4d0515fc"
   },
   "outputs": [
    {
     "name": "stdout",
     "output_type": "stream",
     "text": [
      "[1, 14, 22, 16, 43, 530, 973, 1622, 1385, 65, 458, 4468, 66, 3941, 4, 173, 36, 256, 5, 25, 100, 43, 838, 112, 50, 670, 2, 9, 35, 480, 284, 5, 150, 4, 172, 112, 167, 2, 336, 385, 39, 4, 172, 4536, 1111, 17, 546, 38, 13, 447, 4, 192, 50, 16, 6, 147, 2025, 19, 14, 22, 4, 1920, 4613, 469, 4, 22, 71, 87, 12, 16, 43, 530, 38, 76, 15, 13, 1247, 4, 22, 17, 515, 17, 12, 16, 626, 18, 2, 5, 62, 386, 12, 8, 316, 8, 106, 5, 4, 2223, 5244, 16, 480, 66, 3785, 33, 4, 130, 12, 16, 38, 619, 5, 25, 124, 51, 36, 135, 48, 25, 1415, 33, 6, 22, 12, 215, 28, 77, 52, 5, 14, 407, 16, 82, 2, 8, 4, 107, 117, 5952, 15, 256, 4, 2, 7, 3766, 5, 723, 36, 71, 43, 530, 476, 26, 400, 317, 46, 7, 4, 2, 1029, 13, 104, 88, 4, 381, 15, 297, 98, 32, 2071, 56, 26, 141, 6, 194, 7486, 18, 4, 226, 22, 21, 134, 476, 26, 480, 5, 144, 30, 5535, 18, 51, 36, 28, 224, 92, 25, 104, 4, 226, 65, 16, 38, 1334, 88, 12, 16, 283, 5, 16, 4472, 113, 103, 32, 15, 16, 5345, 19, 178, 32]\n"
     ]
    }
   ],
   "source": [
    "print(train_data[0])"
   ]
  },
  {
   "cell_type": "markdown",
   "metadata": {
    "colab_type": "text",
    "id": "a4Mls2KHxrO3"
   },
   "source": [
    "\n",
    "映画のレビュー文は、それぞれ長さが異なります。以下のコードで、最初のレビューと2番目のレビューの単語数を確認してみましょう。一般に、ニューラルネットワークへの入力は同じ長さである必要があります。後でこの問題を解決しましょう。\n"
   ]
  },
  {
   "cell_type": "code",
   "execution_count": 5,
   "metadata": {
    "colab": {
     "base_uri": "https://localhost:8080/",
     "height": 34
    },
    "colab_type": "code",
    "executionInfo": {
     "elapsed": 998,
     "status": "ok",
     "timestamp": 1553304451860,
     "user": {
      "displayName": "Tomo Masuda",
      "photoUrl": "https://lh5.googleusercontent.com/-xWkmNceNhGQ/AAAAAAAAAAI/AAAAAAAAB60/DG3sdpAeNVE/s64/photo.jpg",
      "userId": "04052575624663243173"
     },
     "user_tz": -540
    },
    "id": "5azJ69ToxrO4",
    "outputId": "204d3c7e-28b0-4ee2-e462-20b149e5756b"
   },
   "outputs": [
    {
     "data": {
      "text/plain": [
       "(218, 189)"
      ]
     },
     "execution_count": 5,
     "metadata": {
      "tags": []
     },
     "output_type": "execute_result"
    }
   ],
   "source": [
    "len(train_data[0]), len(train_data[1])"
   ]
  },
  {
   "cell_type": "markdown",
   "metadata": {
    "colab_type": "text",
    "id": "Ra11Xz_nxrO5"
   },
   "source": [
    "\n",
    "### 3. 整数を単語に戻す\n",
    "\n",
    "整数をテキストに変換して戻す方法を知っておくと便利です。ここでは、整数から文字列への対応づけを持つ辞書オブジェクトへ、問い合わせをするためのヘルパー関数を作ります。 \n"
   ]
  },
  {
   "cell_type": "code",
   "execution_count": 6,
   "metadata": {
    "colab": {
     "base_uri": "https://localhost:8080/",
     "height": 68
    },
    "colab_type": "code",
    "executionInfo": {
     "elapsed": 1932,
     "status": "ok",
     "timestamp": 1553304457664,
     "user": {
      "displayName": "Tomo Masuda",
      "photoUrl": "https://lh5.googleusercontent.com/-xWkmNceNhGQ/AAAAAAAAAAI/AAAAAAAAB60/DG3sdpAeNVE/s64/photo.jpg",
      "userId": "04052575624663243173"
     },
     "user_tz": -540
    },
    "id": "ByGieyTrxrO6",
    "outputId": "5771117a-f469-48c1-cae7-2a88033cafa6"
   },
   "outputs": [
    {
     "name": "stdout",
     "output_type": "stream",
     "text": [
      "Downloading data from https://storage.googleapis.com/tensorflow/tf-keras-datasets/imdb_word_index.json\n",
      "1646592/1641221 [==============================] - 0s 0us/step\n",
      "1654784/1641221 [==============================] - 0s 0us/step\n"
     ]
    }
   ],
   "source": [
    "# A dictionary mapping words to an integer index\n",
    "word_index = imdb.get_word_index()\n",
    "\n",
    "# The first indices are reserved\n",
    "word_index = {k:(v+3) for k,v in word_index.items()} \n",
    "word_index[\"<PAD>\"] = 0\n",
    "word_index[\"<START>\"] = 1\n",
    "word_index[\"<UNK>\"] = 2  # unknown\n",
    "word_index[\"<UNUSED>\"] = 3\n",
    "\n",
    "reverse_word_index = dict([(value, key) for (key, value) in word_index.items()])\n",
    "\n",
    "def decode_review(text):\n",
    "    return ' '.join([reverse_word_index.get(i, '?') for i in text])"
   ]
  },
  {
   "cell_type": "markdown",
   "metadata": {
    "colab_type": "text",
    "id": "9y8HH1AoxrO8"
   },
   "source": [
    "\n",
    "これで`decode_review`関数を使って最初のレビューのテキストを表示することができます。 \n"
   ]
  },
  {
   "cell_type": "code",
   "execution_count": 7,
   "metadata": {
    "colab": {
     "base_uri": "https://localhost:8080/",
     "height": 54
    },
    "colab_type": "code",
    "executionInfo": {
     "elapsed": 890,
     "status": "ok",
     "timestamp": 1553304459540,
     "user": {
      "displayName": "Tomo Masuda",
      "photoUrl": "https://lh5.googleusercontent.com/-xWkmNceNhGQ/AAAAAAAAAAI/AAAAAAAAB60/DG3sdpAeNVE/s64/photo.jpg",
      "userId": "04052575624663243173"
     },
     "user_tz": -540
    },
    "id": "f-KYJS3axrO9",
    "outputId": "f5d5eccc-11e3-4603-86e3-d6897461efa8"
   },
   "outputs": [
    {
     "data": {
      "text/plain": [
       "u\"<START> this film was just brilliant casting location scenery story direction everyone's really suited the part they played and you could just imagine being there robert <UNK> is an amazing actor and now the same being director <UNK> father came from the same scottish island as myself so i loved the fact there was a real connection with this film the witty remarks throughout the film were great it was just brilliant so much that i bought the film as soon as it was released for <UNK> and would recommend it to everyone to watch and the fly fishing was amazing really cried at the end it was so sad and you know what they say if you cry at a film it must have been good and this definitely was also <UNK> to the two little boy's that played the <UNK> of norman and paul they were just brilliant children are often left out of the <UNK> list i think because the stars that play them all grown up are such a big profile for the whole film but these children are amazing and should be praised for what they have done don't you think the whole story was so lovely because it was true and was someone's life after all that was shared with us all\""
      ]
     },
     "execution_count": 7,
     "metadata": {
      "tags": []
     },
     "output_type": "execute_result"
    }
   ],
   "source": [
    "decode_review(train_data[0])"
   ]
  },
  {
   "cell_type": "markdown",
   "metadata": {
    "colab_type": "text",
    "id": "GVyXzVW7xrO_"
   },
   "source": [
    "\n",
    "## C. データセットを前処理する\n",
    "\n",
    "レビュー（整数の配列）は、ニューラルネットワークへ入力する前にテンソルに変換します。変換には、いくつか方法があります。 \n",
    "\n",
    "- ワンホットエンコーディングと同様、配列を単語の出現を示す0と1のベクトルに変換します。たとえば、シーケンス `[3、5]` は、1であるインデックス3と5を除いて、すべて0の1万次元ベクトルになります。次に、これをネットワークの最初の層、つまり、浮動小数点のベクトルデータを処理できる全結合層にします。ただし、この方法では大量のメモリが必要です。 `num_words * num_reviews`の形をもつ行列を保持するからです。 \n",
    "- 代わりに、すべて同じ長さになるように配列をパディングしてから、`max_length * num_reviews`の形をもつ整数テンソルを作成することもできます。この形状を処理できるembedding層をネットワークの最初の層として使います。\n",
    "\n",
    "このチュートリアルでは、後者を使います。 \n",
    "\n",
    "入力の映画レビューを同じ長さである必要があるので、 [pad_sequences](https://www.tensorflow.org/api_docs/python/tf/keras/preprocessing/sequence/pad_sequences)関数を使い、長さを標準化します。 \n"
   ]
  },
  {
   "cell_type": "code",
   "execution_count": null,
   "metadata": {
    "colab": {},
    "colab_type": "code",
    "id": "vLU5uhCyxrPA"
   },
   "outputs": [],
   "source": [
    "train_data = keras.preprocessing.sequence.pad_sequences(train_data,\n",
    "                                                        value=word_index[\"<PAD>\"],\n",
    "                                                        padding='post',\n",
    "                                                        maxlen=256)\n",
    "\n",
    "test_data = keras.preprocessing.sequence.pad_sequences(test_data,\n",
    "                                                       value=word_index[\"<PAD>\"],\n",
    "                                                       padding='post',\n",
    "                                                       maxlen=256)"
   ]
  },
  {
   "cell_type": "markdown",
   "metadata": {
    "colab_type": "text",
    "id": "nejMKis6xrPD"
   },
   "source": [
    "\n",
    "例の長さを見てみましょう。 \n"
   ]
  },
  {
   "cell_type": "code",
   "execution_count": 9,
   "metadata": {
    "colab": {
     "base_uri": "https://localhost:8080/",
     "height": 34
    },
    "colab_type": "code",
    "executionInfo": {
     "elapsed": 780,
     "status": "ok",
     "timestamp": 1553304466295,
     "user": {
      "displayName": "Tomo Masuda",
      "photoUrl": "https://lh5.googleusercontent.com/-xWkmNceNhGQ/AAAAAAAAAAI/AAAAAAAAB60/DG3sdpAeNVE/s64/photo.jpg",
      "userId": "04052575624663243173"
     },
     "user_tz": -540
    },
    "id": "BB-683yQxrPE",
    "outputId": "27a2c28f-1e8e-4a67-9d7e-c5ecc51ac0c9"
   },
   "outputs": [
    {
     "data": {
      "text/plain": [
       "(256, 256)"
      ]
     },
     "execution_count": 9,
     "metadata": {
      "tags": []
     },
     "output_type": "execute_result"
    }
   ],
   "source": [
    "len(train_data[0]), len(train_data[1])"
   ]
  },
  {
   "cell_type": "markdown",
   "metadata": {
    "colab_type": "text",
    "id": "WGTQ2XeJxrPJ"
   },
   "source": [
    "\n",
    "そして、（今はパディングされた）最初のレビューを調べます。 \n"
   ]
  },
  {
   "cell_type": "code",
   "execution_count": 10,
   "metadata": {
    "colab": {
     "base_uri": "https://localhost:8080/",
     "height": 340
    },
    "colab_type": "code",
    "executionInfo": {
     "elapsed": 956,
     "status": "ok",
     "timestamp": 1553304468448,
     "user": {
      "displayName": "Tomo Masuda",
      "photoUrl": "https://lh5.googleusercontent.com/-xWkmNceNhGQ/AAAAAAAAAAI/AAAAAAAAB60/DG3sdpAeNVE/s64/photo.jpg",
      "userId": "04052575624663243173"
     },
     "user_tz": -540
    },
    "id": "mzyoemxxxrPJ",
    "outputId": "374478d0-d229-4e4d-9892-2865c5c70b27"
   },
   "outputs": [
    {
     "name": "stdout",
     "output_type": "stream",
     "text": [
      "[   1   14   22   16   43  530  973 1622 1385   65  458 4468   66 3941\n",
      "    4  173   36  256    5   25  100   43  838  112   50  670    2    9\n",
      "   35  480  284    5  150    4  172  112  167    2  336  385   39    4\n",
      "  172 4536 1111   17  546   38   13  447    4  192   50   16    6  147\n",
      " 2025   19   14   22    4 1920 4613  469    4   22   71   87   12   16\n",
      "   43  530   38   76   15   13 1247    4   22   17  515   17   12   16\n",
      "  626   18    2    5   62  386   12    8  316    8  106    5    4 2223\n",
      " 5244   16  480   66 3785   33    4  130   12   16   38  619    5   25\n",
      "  124   51   36  135   48   25 1415   33    6   22   12  215   28   77\n",
      "   52    5   14  407   16   82    2    8    4  107  117 5952   15  256\n",
      "    4    2    7 3766    5  723   36   71   43  530  476   26  400  317\n",
      "   46    7    4    2 1029   13  104   88    4  381   15  297   98   32\n",
      " 2071   56   26  141    6  194 7486   18    4  226   22   21  134  476\n",
      "   26  480    5  144   30 5535   18   51   36   28  224   92   25  104\n",
      "    4  226   65   16   38 1334   88   12   16  283    5   16 4472  113\n",
      "  103   32   15   16 5345   19  178   32    0    0    0    0    0    0\n",
      "    0    0    0    0    0    0    0    0    0    0    0    0    0    0\n",
      "    0    0    0    0    0    0    0    0    0    0    0    0    0    0\n",
      "    0    0    0    0]\n"
     ]
    }
   ],
   "source": [
    "print(train_data[0])"
   ]
  },
  {
   "cell_type": "markdown",
   "metadata": {
    "colab_type": "text",
    "id": "TpUMYWyHxrPO"
   },
   "source": [
    "\n",
    "## D. モデルを作成する\n",
    "\n",
    "ニューラルネットワークは、レイヤを連ねる、または重ねて作ります。構造（アーキテクチャ）を決める、2つ重要なポイントがあります。\n",
    "\n",
    "- モデルにいくつのレイヤを使うか？\n",
    "- 各層にいくつの*ノード*を使うか？ \n",
    "\n",
    "この例では、入力は単語インデックスの配列です。出力される予測ラベルは0か1のいずれかです。この課題を解くモデルを作りましょう。 \n"
   ]
  },
  {
   "cell_type": "code",
   "execution_count": 11,
   "metadata": {
    "colab": {
     "base_uri": "https://localhost:8080/",
     "height": 343
    },
    "colab_type": "code",
    "executionInfo": {
     "elapsed": 676,
     "status": "ok",
     "timestamp": 1553304475329,
     "user": {
      "displayName": "Tomo Masuda",
      "photoUrl": "https://lh5.googleusercontent.com/-xWkmNceNhGQ/AAAAAAAAAAI/AAAAAAAAB60/DG3sdpAeNVE/s64/photo.jpg",
      "userId": "04052575624663243173"
     },
     "user_tz": -540
    },
    "id": "7qtgBGp_xrPO",
    "outputId": "220f1554-696c-4daa-d3d4-67ba42498615"
   },
   "outputs": [
    {
     "name": "stdout",
     "output_type": "stream",
     "text": [
      "WARNING:tensorflow:From /usr/local/lib/python2.7/dist-packages/tensorflow/python/ops/resource_variable_ops.py:435: colocate_with (from tensorflow.python.framework.ops) is deprecated and will be removed in a future version.\n",
      "Instructions for updating:\n",
      "Colocations handled automatically by placer.\n",
      "_________________________________________________________________\n",
      "Layer (type)                 Output Shape              Param #   \n",
      "=================================================================\n",
      "embedding (Embedding)        (None, None, 16)          160000    \n",
      "_________________________________________________________________\n",
      "global_average_pooling1d (Gl (None, 16)                0         \n",
      "_________________________________________________________________\n",
      "dense (Dense)                (None, 16)                272       \n",
      "_________________________________________________________________\n",
      "dense_1 (Dense)              (None, 1)                 17        \n",
      "=================================================================\n",
      "Total params: 160,289\n",
      "Trainable params: 160,289\n",
      "Non-trainable params: 0\n",
      "_________________________________________________________________\n"
     ]
    }
   ],
   "source": [
    "# input shape is the vocabulary count used for the movie reviews (10,000 words)\n",
    "vocab_size = 10000\n",
    "\n",
    "model = keras.Sequential()\n",
    "model.add(keras.layers.Embedding(vocab_size, 16))\n",
    "model.add(keras.layers.GlobalAveragePooling1D())\n",
    "model.add(keras.layers.Dense(16, activation=tf.nn.relu))\n",
    "model.add(keras.layers.Dense(1, activation=tf.nn.sigmoid))\n",
    "\n",
    "model.summary()"
   ]
  },
  {
   "cell_type": "markdown",
   "metadata": {
    "colab_type": "text",
    "id": "pEJ5VVuRxrPU"
   },
   "source": [
    "\n",
    "これらの層を順番に積み重ねて分類器を作ります。\n",
    "\n",
    "1. 最初の層は`Embedding`層です。この層は整数で表された単語を取り、各単語のインデックスに対応した単語の埋め込みベクトル（または、単語の分散表現）を返します。これらの埋め込みベクトルも、モデルの学習が進むのと同時に、学習が進みます。ベクトルは出力配列に次元を追加します。結果得られる次元は`(batch, sequence, embedding)`です。 \n",
    "1. 次に、 `GlobalAveragePooling1D`レイヤは、シーケンスにある単語毎の埋め込みベクトルの各次元を、単語横断で平均をとることで、各レビューに対応する固定長出力ベクトルを返します。これで、モデルは可変長の入力を固定長として扱えるようになります。平均を取るのは、考えうる限り一番簡単な方法でしょう。 \n",
    "1. この固定長出力ベクトルは、16個のノードを持つ全結合層（ `Dense` ）を通り、処理されます。 \n",
    "1. 最終層の単一の出力ノードとは、全結合で接続されます。 `sigmoid`を活性化関数として使い、出力ノードの値は0から1の間の浮動小数点数(float型)として、確率、または確信度を表します。 \n"
   ]
  },
  {
   "cell_type": "markdown",
   "metadata": {
    "colab_type": "text",
    "id": "FIYsvn-RxrPV"
   },
   "source": [
    "\n",
    "### 1. ノード（隠れユニット）\n",
    "\n",
    "\n",
    "上記のモデルには、入力と出力の間に2つの中間層（または、隠れ層）があります。出力数（ユニット、ノード、またはニューロンと呼びます）は、レイヤが表現できる空間の次元です。言い換えると、内部表現を学習するときにネットワークが許容する自由度です。 \n",
    "\n",
    "モデルがより多くのノード（高次元の表現空間）やレイヤを持つと、ネットワークはより複雑な表現を学ぶことができます。しかし、同時にネットワークの計算コストが高くなり、不要なパターン（つまり学習データでの精度は向上するが、テストデータでの精度は向上しないパターン）の学習をしてしまうことがあります。これは*過学習*と呼ばれており、後で触れます。 \n"
   ]
  },
  {
   "cell_type": "markdown",
   "metadata": {
    "colab_type": "text",
    "id": "cGiwZcACxrPW"
   },
   "source": [
    "\n",
    "### 2. 損失関数とオプティマイザ\n",
    "\n",
    "モデルには、損失関数と学習用のオプティマイザが必要です。今回の課題は、二項分類問題です。モデルは確率（活性化関数としてのSigmoid関数を含む単一層）を出力するので、 `binary_crossentropy` という損失関数を使います。 \n",
    "\n",
    "損失関数は他にも選ぶことができます。例えば、 `mean_squared_error`が選べます。ただ一般に、 `binary_crossentropy`は、確率を扱うのに適しています。確率分布間、またはこの場合は正解データの分布と予測データの分布間の「距離」を測定します。 \n",
    "\n",
    "後に回帰問題をみてゆくとき（たとえば家の価格を予測するとき）、平均二乗誤差と呼ばれる別の損失関数を使います。\n",
    "\n",
    "次に、指定したオプティマイザと損失関数を使うよう、下の関数でモデルをコンパイルします。 \n"
   ]
  },
  {
   "cell_type": "code",
   "execution_count": null,
   "metadata": {
    "colab": {},
    "colab_type": "code",
    "id": "Efbx8v3wxrPX"
   },
   "outputs": [],
   "source": [
    "model.compile(optimizer=tf.train.AdamOptimizer(),\n",
    "              loss='binary_crossentropy',\n",
    "              metrics=['accuracy'])"
   ]
  },
  {
   "cell_type": "markdown",
   "metadata": {},
   "source": [
    "## E. モデルを学習させる"
   ]
  },
  {
   "cell_type": "markdown",
   "metadata": {
    "colab_type": "text",
    "id": "12DJ2q7qxrPZ"
   },
   "source": [
    "\n",
    "### 1. 検証データセットを準備する\n",
    "\n",
    "学習中、モデルの精度を未知のデータで確認します（検証、Validation）。そのため、元の学習データから10,000個の例を分けて、*検証データセット*を準備します。\n",
    "\n",
    "なぜ今テストデータセットを使わないのでしょうか？なぜなら、学習データのみを使用してモデルを学習・調整し、その間に検証データセットを使います。そして、次にテストデータを1回だけ使用して精度を評価したいからです。 \n"
   ]
  },
  {
   "cell_type": "code",
   "execution_count": null,
   "metadata": {
    "colab": {},
    "colab_type": "code",
    "id": "Qy23KniexrPa"
   },
   "outputs": [],
   "source": [
    "x_val = train_data[:10000]\n",
    "partial_x_train = train_data[10000:]\n",
    "\n",
    "y_val = train_labels[:10000]\n",
    "partial_y_train = train_labels[10000:]"
   ]
  },
  {
   "cell_type": "markdown",
   "metadata": {
    "colab_type": "text",
    "id": "4cwmnVW_xrPc"
   },
   "source": [
    "\n",
    "### 2. モデルを学習させる\n",
    "\n",
    " 512サンプルのミニバッチで40エポック、モデルを学習させます。これは、`x_train`と`y_train`テンソルの全サンプルを、40回繰り返し使って学習します。学習中に、検証セットからの1万サンプルでモデルの誤差(loss)と精度を監視します。 \n"
   ]
  },
  {
   "cell_type": "code",
   "execution_count": 14,
   "metadata": {
    "colab": {
     "base_uri": "https://localhost:8080/",
     "height": 1465
    },
    "colab_type": "code",
    "executionInfo": {
     "elapsed": 39038,
     "status": "ok",
     "timestamp": 1553304529889,
     "user": {
      "displayName": "Tomo Masuda",
      "photoUrl": "https://lh5.googleusercontent.com/-xWkmNceNhGQ/AAAAAAAAAAI/AAAAAAAAB60/DG3sdpAeNVE/s64/photo.jpg",
      "userId": "04052575624663243173"
     },
     "user_tz": -540
    },
    "id": "YFQp5YG4xrPc",
    "outputId": "8d878d2b-c757-4b1b-9189-a1fef6f36f56"
   },
   "outputs": [
    {
     "name": "stdout",
     "output_type": "stream",
     "text": [
      "Train on 15000 samples, validate on 10000 samples\n",
      "WARNING:tensorflow:From /usr/local/lib/python2.7/dist-packages/tensorflow/python/ops/math_ops.py:3066: to_int32 (from tensorflow.python.ops.math_ops) is deprecated and will be removed in a future version.\n",
      "Instructions for updating:\n",
      "Use tf.cast instead.\n",
      "Epoch 1/40\n",
      "15000/15000 [==============================] - 2s 102us/sample - loss: 0.6912 - acc: 0.5622 - val_loss: 0.6885 - val_acc: 0.6330\n",
      "Epoch 2/40\n",
      "15000/15000 [==============================] - 1s 64us/sample - loss: 0.6834 - acc: 0.7144 - val_loss: 0.6782 - val_acc: 0.7389\n",
      "Epoch 3/40\n",
      "15000/15000 [==============================] - 1s 61us/sample - loss: 0.6676 - acc: 0.7596 - val_loss: 0.6589 - val_acc: 0.7664\n",
      "Epoch 4/40\n",
      "15000/15000 [==============================] - 1s 61us/sample - loss: 0.6412 - acc: 0.7755 - val_loss: 0.6293 - val_acc: 0.7717\n",
      "Epoch 5/40\n",
      "15000/15000 [==============================] - 1s 61us/sample - loss: 0.6035 - acc: 0.8057 - val_loss: 0.5907 - val_acc: 0.7964\n",
      "Epoch 6/40\n",
      "15000/15000 [==============================] - 1s 60us/sample - loss: 0.5574 - acc: 0.8243 - val_loss: 0.5472 - val_acc: 0.8109\n",
      "Epoch 7/40\n",
      "15000/15000 [==============================] - 1s 61us/sample - loss: 0.5075 - acc: 0.8373 - val_loss: 0.5013 - val_acc: 0.8285\n",
      "Epoch 8/40\n",
      "15000/15000 [==============================] - 1s 61us/sample - loss: 0.4590 - acc: 0.8557 - val_loss: 0.4603 - val_acc: 0.8395\n",
      "Epoch 9/40\n",
      "15000/15000 [==============================] - 1s 61us/sample - loss: 0.4153 - acc: 0.8696 - val_loss: 0.4247 - val_acc: 0.8489\n",
      "Epoch 10/40\n",
      "15000/15000 [==============================] - 1s 61us/sample - loss: 0.3776 - acc: 0.8797 - val_loss: 0.3960 - val_acc: 0.8544\n",
      "Epoch 11/40\n",
      "15000/15000 [==============================] - 1s 61us/sample - loss: 0.3461 - acc: 0.8871 - val_loss: 0.3727 - val_acc: 0.8623\n",
      "Epoch 12/40\n",
      "15000/15000 [==============================] - 1s 61us/sample - loss: 0.3198 - acc: 0.8944 - val_loss: 0.3549 - val_acc: 0.8665\n",
      "Epoch 13/40\n",
      "15000/15000 [==============================] - 1s 62us/sample - loss: 0.2983 - acc: 0.9009 - val_loss: 0.3395 - val_acc: 0.8717\n",
      "Epoch 14/40\n",
      "15000/15000 [==============================] - 1s 60us/sample - loss: 0.2789 - acc: 0.9055 - val_loss: 0.3282 - val_acc: 0.8753\n",
      "Epoch 15/40\n",
      "15000/15000 [==============================] - 1s 60us/sample - loss: 0.2627 - acc: 0.9097 - val_loss: 0.3191 - val_acc: 0.8762\n",
      "Epoch 16/40\n",
      "15000/15000 [==============================] - 1s 62us/sample - loss: 0.2481 - acc: 0.9157 - val_loss: 0.3114 - val_acc: 0.8764\n",
      "Epoch 17/40\n",
      "15000/15000 [==============================] - 1s 61us/sample - loss: 0.2345 - acc: 0.9203 - val_loss: 0.3051 - val_acc: 0.8791\n",
      "Epoch 18/40\n",
      "15000/15000 [==============================] - 1s 64us/sample - loss: 0.2225 - acc: 0.9239 - val_loss: 0.2998 - val_acc: 0.8816\n",
      "Epoch 19/40\n",
      "15000/15000 [==============================] - 1s 63us/sample - loss: 0.2116 - acc: 0.9264 - val_loss: 0.2954 - val_acc: 0.8823\n",
      "Epoch 20/40\n",
      "15000/15000 [==============================] - 1s 63us/sample - loss: 0.2018 - acc: 0.9307 - val_loss: 0.2924 - val_acc: 0.8833\n",
      "Epoch 21/40\n",
      "15000/15000 [==============================] - 1s 62us/sample - loss: 0.1918 - acc: 0.9357 - val_loss: 0.2899 - val_acc: 0.8829\n",
      "Epoch 22/40\n",
      "15000/15000 [==============================] - 1s 61us/sample - loss: 0.1834 - acc: 0.9395 - val_loss: 0.2880 - val_acc: 0.8850\n",
      "Epoch 23/40\n",
      "15000/15000 [==============================] - 1s 63us/sample - loss: 0.1750 - acc: 0.9437 - val_loss: 0.2874 - val_acc: 0.8841\n",
      "Epoch 24/40\n",
      "15000/15000 [==============================] - 1s 61us/sample - loss: 0.1677 - acc: 0.9465 - val_loss: 0.2863 - val_acc: 0.8846\n",
      "Epoch 25/40\n",
      "15000/15000 [==============================] - 1s 61us/sample - loss: 0.1602 - acc: 0.9495 - val_loss: 0.2853 - val_acc: 0.8851\n",
      "Epoch 26/40\n",
      "15000/15000 [==============================] - 1s 62us/sample - loss: 0.1536 - acc: 0.9524 - val_loss: 0.2864 - val_acc: 0.8836\n",
      "Epoch 27/40\n",
      "15000/15000 [==============================] - 1s 61us/sample - loss: 0.1473 - acc: 0.9554 - val_loss: 0.2863 - val_acc: 0.8847\n",
      "Epoch 28/40\n",
      "15000/15000 [==============================] - 1s 62us/sample - loss: 0.1413 - acc: 0.9571 - val_loss: 0.2872 - val_acc: 0.8849\n",
      "Epoch 29/40\n",
      "15000/15000 [==============================] - 1s 62us/sample - loss: 0.1359 - acc: 0.9598 - val_loss: 0.2892 - val_acc: 0.8839\n",
      "Epoch 30/40\n",
      "15000/15000 [==============================] - 1s 64us/sample - loss: 0.1304 - acc: 0.9615 - val_loss: 0.2891 - val_acc: 0.8851\n",
      "Epoch 31/40\n",
      "15000/15000 [==============================] - 1s 62us/sample - loss: 0.1247 - acc: 0.9640 - val_loss: 0.2905 - val_acc: 0.8856\n",
      "Epoch 32/40\n",
      "15000/15000 [==============================] - 1s 61us/sample - loss: 0.1197 - acc: 0.9671 - val_loss: 0.2924 - val_acc: 0.8854\n",
      "Epoch 33/40\n",
      "15000/15000 [==============================] - 1s 62us/sample - loss: 0.1148 - acc: 0.9681 - val_loss: 0.2950 - val_acc: 0.8845\n",
      "Epoch 34/40\n",
      "15000/15000 [==============================] - 1s 62us/sample - loss: 0.1105 - acc: 0.9693 - val_loss: 0.2976 - val_acc: 0.8846\n",
      "Epoch 35/40\n",
      "15000/15000 [==============================] - 1s 61us/sample - loss: 0.1064 - acc: 0.9703 - val_loss: 0.3007 - val_acc: 0.8835\n",
      "Epoch 36/40\n",
      "15000/15000 [==============================] - 1s 62us/sample - loss: 0.1021 - acc: 0.9729 - val_loss: 0.3027 - val_acc: 0.8836\n",
      "Epoch 37/40\n",
      "15000/15000 [==============================] - 1s 62us/sample - loss: 0.0979 - acc: 0.9737 - val_loss: 0.3056 - val_acc: 0.8824\n",
      "Epoch 38/40\n",
      "15000/15000 [==============================] - 1s 61us/sample - loss: 0.0941 - acc: 0.9753 - val_loss: 0.3096 - val_acc: 0.8828\n",
      "Epoch 39/40\n",
      "15000/15000 [==============================] - 1s 62us/sample - loss: 0.0910 - acc: 0.9767 - val_loss: 0.3137 - val_acc: 0.8809\n",
      "Epoch 40/40\n",
      "15000/15000 [==============================] - 1s 63us/sample - loss: 0.0871 - acc: 0.9784 - val_loss: 0.3167 - val_acc: 0.8820\n"
     ]
    }
   ],
   "source": [
    "history = model.fit(partial_x_train,\n",
    "                    partial_y_train,\n",
    "                    epochs=40,\n",
    "                    batch_size=512,\n",
    "                    validation_data=(x_val, y_val),\n",
    "                    verbose=1)"
   ]
  },
  {
   "cell_type": "markdown",
   "metadata": {
    "colab_type": "text",
    "id": "KtrnLQqNxrPj"
   },
   "source": [
    "\n",
    "## F. 学習済みモデルを評価する\n",
    "\n",
    "学習したモデルの性能を見てみましょう。以下の2つの値が返されます。\n",
    "\n",
    "- 誤差（私たちのエラーを表す数値、低い値の方が優れています）\n",
    "- 精度 \n"
   ]
  },
  {
   "cell_type": "code",
   "execution_count": 15,
   "metadata": {
    "colab": {
     "base_uri": "https://localhost:8080/",
     "height": 51
    },
    "colab_type": "code",
    "executionInfo": {
     "elapsed": 1661,
     "status": "ok",
     "timestamp": 1553304550770,
     "user": {
      "displayName": "Tomo Masuda",
      "photoUrl": "https://lh5.googleusercontent.com/-xWkmNceNhGQ/AAAAAAAAAAI/AAAAAAAAB60/DG3sdpAeNVE/s64/photo.jpg",
      "userId": "04052575624663243173"
     },
     "user_tz": -540
    },
    "id": "SvGYTAIuxrPj",
    "outputId": "c1205dff-78ec-44b2-8dc1-6baa0c50c156"
   },
   "outputs": [
    {
     "name": "stdout",
     "output_type": "stream",
     "text": [
      "25000/25000 [==============================] - 1s 38us/sample - loss: 0.3388 - acc: 0.8698\n",
      "[0.3387693747806549, 0.86984]\n"
     ]
    }
   ],
   "source": [
    "results = model.evaluate(test_data, test_labels)\n",
    "\n",
    "print(results)"
   ]
  },
  {
   "cell_type": "markdown",
   "metadata": {
    "colab_type": "text",
    "id": "GCI3laxDxrPl"
   },
   "source": [
    "\n",
    "このような、とても素朴なアプローチでも、約87％の精度を達成できました。より高度なアプローチでは、モデルは95％に近づくはずです。 \n"
   ]
  },
  {
   "cell_type": "markdown",
   "metadata": {
    "colab_type": "text",
    "id": "mdcPGcGYxrPm"
   },
   "source": [
    "\n",
    "### 1. 精度と誤差(loss)の時系列グラフを作成する\n",
    "\n",
    " `model.fit()`は、学習中に起こったことすべてを含む辞書を含む`History`オブジェクトを返します。 \n"
   ]
  },
  {
   "cell_type": "code",
   "execution_count": 16,
   "metadata": {
    "colab": {
     "base_uri": "https://localhost:8080/",
     "height": 34
    },
    "colab_type": "code",
    "executionInfo": {
     "elapsed": 719,
     "status": "ok",
     "timestamp": 1553304553418,
     "user": {
      "displayName": "Tomo Masuda",
      "photoUrl": "https://lh5.googleusercontent.com/-xWkmNceNhGQ/AAAAAAAAAAI/AAAAAAAAB60/DG3sdpAeNVE/s64/photo.jpg",
      "userId": "04052575624663243173"
     },
     "user_tz": -540
    },
    "id": "JOkHmBPQxrPn",
    "outputId": "168202f3-bfb0-4f6e-93ea-4839efee8992"
   },
   "outputs": [
    {
     "data": {
      "text/plain": [
       "['acc', 'loss', 'val_acc', 'val_loss']"
      ]
     },
     "execution_count": 16,
     "metadata": {
      "tags": []
     },
     "output_type": "execute_result"
    }
   ],
   "source": [
    "history_dict = history.history\n",
    "history_dict.keys()"
   ]
  },
  {
   "cell_type": "markdown",
   "metadata": {
    "colab_type": "text",
    "id": "g6OaI8IkxrPp"
   },
   "source": [
    "\n",
    "学習中の、以下4つの値の推移が保存されています。\n",
    "\n",
    "- acc 学習データセットに対する精度\n",
    "- loss　学習データセットに対する誤差\n",
    "- val_acc　検証データセットに対する精度\n",
    "- val_loss　検証データセットに対する誤差\n",
    "\n",
    "学習および検証中に監視される各メトリックに1つです。これらを使って、比較のために学習・検証データセットの誤差、精度（正解率）をプロットできます。 \n"
   ]
  },
  {
   "cell_type": "code",
   "execution_count": 17,
   "metadata": {
    "colab": {
     "base_uri": "https://localhost:8080/",
     "height": 376
    },
    "colab_type": "code",
    "executionInfo": {
     "elapsed": 1281,
     "status": "ok",
     "timestamp": 1553304557228,
     "user": {
      "displayName": "Tomo Masuda",
      "photoUrl": "https://lh5.googleusercontent.com/-xWkmNceNhGQ/AAAAAAAAAAI/AAAAAAAAB60/DG3sdpAeNVE/s64/photo.jpg",
      "userId": "04052575624663243173"
     },
     "user_tz": -540
    },
    "id": "luU9i7G9xrPp",
    "outputId": "0e023cb5-395c-41c7-99db-72cc6296c166"
   },
   "outputs": [
    {
     "data": {
      "image/png": "[encoded data removed]",
      "text/plain": [
       "<Figure size 576x396 with 1 Axes>"
      ]
     },
     "metadata": {
      "tags": []
     },
     "output_type": "display_data"
    }
   ],
   "source": [
    "import matplotlib.pyplot as plt\n",
    "\n",
    "acc = history.history['acc']\n",
    "val_acc = history.history['val_acc']\n",
    "loss = history.history['loss']\n",
    "val_loss = history.history['val_loss']\n",
    "\n",
    "epochs = range(1, len(acc) + 1)\n",
    "\n",
    "# \"bo\" is for \"blue dot\"\n",
    "plt.plot(epochs, loss, 'bo', label='Training loss')\n",
    "# b is for \"solid blue line\"\n",
    "plt.plot(epochs, val_loss, 'b', label='Validation loss')\n",
    "plt.title('Training and validation loss')\n",
    "plt.xlabel('Epochs')\n",
    "plt.ylabel('Loss')\n",
    "plt.legend()\n",
    "\n",
    "plt.show()"
   ]
  },
  {
   "cell_type": "code",
   "execution_count": 18,
   "metadata": {
    "colab": {
     "base_uri": "https://localhost:8080/",
     "height": 376
    },
    "colab_type": "code",
    "executionInfo": {
     "elapsed": 988,
     "status": "ok",
     "timestamp": 1553304561340,
     "user": {
      "displayName": "Tomo Masuda",
      "photoUrl": "https://lh5.googleusercontent.com/-xWkmNceNhGQ/AAAAAAAAAAI/AAAAAAAAB60/DG3sdpAeNVE/s64/photo.jpg",
      "userId": "04052575624663243173"
     },
     "user_tz": -540
    },
    "id": "uWTEWhHAxrPq",
    "outputId": "26294c2a-3b11-4b7a-adaf-bb012024405f"
   },
   "outputs": [
    {
     "data": {
      "image/png": "[encoded data removed]",
      "text/plain": [
       "<Figure size 576x396 with 1 Axes>"
      ]
     },
     "metadata": {
      "tags": []
     },
     "output_type": "display_data"
    }
   ],
   "source": [
    "plt.clf()   # clear figure\n",
    "acc_values = history_dict['acc']\n",
    "val_acc_values = history_dict['val_acc']\n",
    "\n",
    "plt.plot(epochs, acc, 'bo', label='Training acc')\n",
    "plt.plot(epochs, val_acc, 'b', label='Validation acc')\n",
    "plt.title('Training and validation accuracy')\n",
    "plt.xlabel('Epochs')\n",
    "plt.ylabel('Accuracy')\n",
    "plt.legend()\n",
    "\n",
    "plt.show()"
   ]
  },
  {
   "cell_type": "markdown",
   "metadata": {
    "colab_type": "text",
    "id": "mdchyra1xrPu"
   },
   "source": [
    "\n",
    "このプロットでは以下を表します。\n",
    "\n",
    "- 点線は学習データセットの誤差と精度\n",
    "- 実線は検証データセットの誤差と精度\n",
    "\n",
    "学習時の誤差が各エポックで*減少*し、精度が各エポックで*増加*することに注目してください。これは、勾配降下法による最適化を使うと、見られる動きです。エポックを反復するごとに、誤差が最小になるよう、パラメータを調整していきます。 \n",
    "\n",
    "しかし、検証データセットの誤差と精度には当てはまりません。約20エポックでピークに達したようです。これは過学習の兆候を示しています。モデルは、学習データセットに対して、未知のデータセットよりも優れた精度を示します。20エポックを超えると、モデルはテストデータに現れない、学習データセットに固有の表現を過度に最適化して学習してしまったようです。\n",
    "\n",
    "このケースでは、20回程度のエポックの後、単にトレーニングを中止することで、過学習を防げます。コールバックを使って、学習の自動停止をする方法もあります。"
   ]
  },
  {
   "cell_type": "code",
   "execution_count": null,
   "metadata": {
    "colab": {},
    "colab_type": "code",
    "id": "J7Y5l2UYfJxm"
   },
   "outputs": [],
   "source": []
  }
 ],
 "metadata": {
  "colab": {
   "name": "3_3_1_basic_text_classification_ja.ipynb",
   "provenance": [],
   "version": "0.3.2"
  },
  "kernelspec": {
   "display_name": "Python 3",
   "language": "python",
   "name": "python3"
  },
  "language_info": {
   "codemirror_mode": {
    "name": "ipython",
    "version": 3
   },
   "file_extension": ".py",
   "mimetype": "text/x-python",
   "name": "python",
   "nbconvert_exporter": "python",
   "pygments_lexer": "ipython3",
   "version": "3.6.3"
  }
 },
 "nbformat": 4,
 "nbformat_minor": 2
}
