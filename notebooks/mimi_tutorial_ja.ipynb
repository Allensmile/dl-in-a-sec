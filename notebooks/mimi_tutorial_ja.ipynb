{
 "cells": [
  {
   "cell_type": "markdown",
   "metadata": {
    "colab_type": "text",
    "id": "GkHhURBGcW4U"
   },
   "source": [
    "# mimi® Cloud APIを試す"
   ]
  },
  {
   "cell_type": "markdown",
   "metadata": {
    "colab_type": "text",
    "id": "R688-Ttcrwy3"
   },
   "source": [
    "本ページは読み取り専用のため、ご自身のGoogle Driveに一度コピーしてから実行してください。\n",
    "\n",
    "※「ファイル」→「ドライブにコピー」を選択することで、自分のGoogle Driveに保存できます。"
   ]
  },
  {
   "cell_type": "markdown",
   "metadata": {
    "colab_type": "text",
    "id": "geG0l68tpRW1"
   },
   "source": [
    "## 音声API使用のための事前準備\n",
    "\n",
    "最初にmimi®のドキュメントにある、「[音声API使用のための事前準備](https://mimi.readme.io/docs/first-step)」ページの手順に従ってログインを行い、\n",
    "\n",
    "- アプリケーションID\n",
    "- クライアントID\n",
    "- クライアントシークレット\n",
    "\n",
    "を手元に控えてください。\n",
    "\n",
    "（アクセストークンは、次セルにて実行＆取得可能です）"
   ]
  },
  {
   "cell_type": "markdown",
   "metadata": {
    "colab_type": "text",
    "id": "M5fdqGR6qchI"
   },
   "source": [
    "## アクセストークンを取得\n",
    "\n",
    "まず、アクセストークンを取得するためのクエリパラメータを設定します。\n",
    "\n",
    "\n",
    "アプリケーションIDとクライアントIDは、\":\"(colon)で連結して一つの文字列として設定してください。\n",
    "\n",
    "例：fa92a3ca4fbc406b11f3b5c903bf914b:a4601265925a4f208a44a57fa5969cbd\n",
    "\n",
    "クライアントシークレットは、そのまま一つの文字列として設定してください。特に、シークレットは他の人に教えたりしないようにしましょう。\n",
    "\n",
    "↓の各変数の値を修正し、「[ ]」マークにマウスカーソルを当ててクリックすると、各セルのコードを実行することができます。読み進めながら順番に実行してみてください。"
   ]
  },
  {
   "cell_type": "code",
   "execution_count": null,
   "metadata": {
    "colab": {},
    "colab_type": "code",
    "id": "1CXfw6U1xXo0"
   },
   "outputs": [],
   "source": [
    "# <アプリケーションID>:<クライアントID>の形でコロンつなぎで一つの文字列として設定してください\n",
    "cli_id = '<アプリケーションID>:<クライアントID>'\n",
    "# クライアントシークレットを文字列に設定してください (他の人に漏洩しないよう管理してください)\n",
    "cli_secret = '<クライアントシークレット>'"
   ]
  },
  {
   "cell_type": "markdown",
   "metadata": {
    "colab_type": "text",
    "id": "VMe94p8fqjAD"
   },
   "source": [
    "設定が完了したら、次のコードを実行してアクセストークンを取得します。`token`という変数にアクセストークン文字列が格納され、以降の音声APIではこの値を使用します。\n",
    "\n",
    "アクセストークンの有効期限は発行から1時間ですので、期限切れになったら（音声APIで401が返却されるようになったら）以下のコードを再度実行してアクセストークンを再取得してください。"
   ]
  },
  {
   "cell_type": "code",
   "execution_count": null,
   "metadata": {
    "colab": {},
    "colab_type": "code",
    "id": "lXYq3p9Eo_kY"
   },
   "outputs": [],
   "source": [
    "import requests\n",
    "url = \"https://auth.mimi.fd.ai/v2/token\"\n",
    "\n",
    "payload = {\n",
    "    'client_id': cli_id,\n",
    "    'client_secret': cli_secret,\n",
    "    'grant_type': 'https://auth.mimi.fd.ai/grant_type/client_credentials',\n",
    "    'scope': 'https://apis.mimi.fd.ai/auth/asr/websocket-api-service;https://apis.mimi.fd.ai/auth/asr/http-api-service;https://apis.mimi.fd.ai/auth/nict-asr/websocket-api-service;https://apis.mimi.fd.ai/auth/nict-asr/http-api-service;https://apis.mimi.fd.ai/auth/nict-tts/http-api-service;https://apis.mimi.fd.ai/auth/nict-tra/http-api-service',\n",
    "}\n",
    "resp = requests.post(url, data=payload)\n",
    "if resp.status_code == 200:\n",
    "  token = resp.json()['accessToken']\n",
    "else:\n",
    "  token = ''\n",
    "token\n",
    "\n"
   ]
  },
  {
   "cell_type": "markdown",
   "metadata": {
    "colab_type": "text",
    "id": "p9qFWtLqqi1x"
   },
   "source": [
    "## 音声認識を実行\n",
    "\n",
    "今回は、HTTPにて音声ファイルを送信する方式を利用します。\n",
    "\n",
    "WebSocketで、リアルタイムに音声を取得しながら分割転送する方式も可能ですが、お試し利用なので割愛します。詳細はmimi®のドキュメントの[WebSocket API仕様](https://mimi.readme.io/docs/asr-websocket-service)および[WebSocket APIの詳細動作ページ](https://mimi.readme.io/docs/mimi-websocket-api-spec)をご覧ください。"
   ]
  },
  {
   "cell_type": "markdown",
   "metadata": {
    "colab_type": "text",
    "id": "TpIY7kK_4m26"
   },
   "source": [
    "まず、音声ファイルを`audio.raw`というファイル名でアップロードします。\n",
    "\n",
    "※←のメニューを開き、「ファイル」タブを選択、「アップロード」のメニューからアップロードしてください。\n",
    "\n",
    "\n",
    "音声データは、以下の形式に変換したものをご利用ください。\n",
    "\n",
    "- RAW形式：16kHz・16bit int（リトルエンディアン）・1channel\n",
    "\n",
    "[ここ](https://github.com/FairyDevicesRD/libmimiio/blob/983c31e5060c5ce18fb3c4fa44170a3c15463dcc/examples/audio.raw)に、サンプルファイルもございますので用意が難しい場合はこちらをご利用ください。"
   ]
  },
  {
   "cell_type": "code",
   "execution_count": null,
   "metadata": {
    "colab": {},
    "colab_type": "code",
    "id": "8IeFVvGbzoDr"
   },
   "outputs": [],
   "source": [
    "try:\n",
    "  data = open('audio.raw', 'rb').read()\n",
    "except FileNotFoundError:\n",
    "  data = requests.get('https://github.com/FairyDevicesRD/libmimiio/raw/master/examples/audio.raw').content\n",
    "  \n",
    "data"
   ]
  },
  {
   "cell_type": "markdown",
   "metadata": {
    "colab_type": "text",
    "id": "LJHm4hEds9rm"
   },
   "source": [
    "mimi® ASR 版"
   ]
  },
  {
   "cell_type": "code",
   "execution_count": null,
   "metadata": {
    "colab": {},
    "colab_type": "code",
    "id": "0Xy06YiXrDfg"
   },
   "outputs": [],
   "source": [
    "headers = {\n",
    "    'Authorization': 'Bearer {}'.format(token),\n",
    "    'Content-Type': 'audio/x-pcm;bit=16;rate=16000;channels=1',\n",
    "    'x-mimi-input-language': 'ja',\n",
    "    'x-mimi-process': 'asr',\n",
    "}\n",
    "\n",
    "url = 'https://service.mimi.fd.ai/'\n",
    "resp = requests.post(url, headers=headers, data=data)\n",
    "resp.json()\n"
   ]
  },
  {
   "cell_type": "markdown",
   "metadata": {
    "colab_type": "text",
    "id": "g9zhbIQC6mso"
   },
   "source": [
    "mimi® ASR powered by NICT 版"
   ]
  },
  {
   "cell_type": "code",
   "execution_count": null,
   "metadata": {
    "colab": {},
    "colab_type": "code",
    "id": "GeU0T2uS6a8N"
   },
   "outputs": [],
   "source": [
    "headers = {\n",
    "    'Authorization': 'Bearer {}'.format(token),\n",
    "    'Content-Type': 'audio/x-pcm;bit=16;rate=16000;channels=1',\n",
    "    'x-mimi-input-language': 'ja',\n",
    "    'x-mimi-process': 'nict-asr',\n",
    "}\n",
    "\n",
    "url = 'https://service.mimi.fd.ai/'\n",
    "resp = requests.post(url, headers=headers, data=data)\n",
    "resp.json()\n"
   ]
  },
  {
   "cell_type": "markdown",
   "metadata": {
    "colab_type": "text",
    "id": "WlyS-7udtVLO"
   },
   "source": [
    "## 機械翻訳を実行\n",
    "\n",
    "機械翻訳は、入力言語とそのテキスト、出力言語（翻訳対象の言語）を指定して、HTTP POSTにて実行します。\n",
    "\n",
    "以下では、サンプルテキストを入力済みですが、もしできれば、みなさんの手で上記音声認識の結果から文章を抽出して入力テキストに設定し翻訳してみましょう。"
   ]
  },
  {
   "cell_type": "code",
   "execution_count": null,
   "metadata": {
    "colab": {},
    "colab_type": "code",
    "id": "ZKfNMiH7tc_S"
   },
   "outputs": [],
   "source": [
    "headers = {\n",
    "    'Authorization': 'Bearer {}'.format(token),\n",
    "}\n",
    "\n",
    "data = {\n",
    "    'source_lang': 'ja',\n",
    "    'target_lang': 'en',\n",
    "    'text': \"ちょっと遅い昼食をとるためファミリーレストランに入ったのです。\",\n",
    "}\n",
    "\n",
    "url = 'https://tra.mimi.fd.ai/machine_translation'\n",
    "resp = requests.post(url, headers=headers, data=data)\n",
    "resp.json()"
   ]
  },
  {
   "cell_type": "markdown",
   "metadata": {
    "colab_type": "text",
    "id": "cgT9RYl5w9O7"
   },
   "source": [
    "## 音声合成を実行\n",
    "\n",
    "音声合成は、入力言語およびテキストを指定し、HTTP POSTすることで実行します。\n",
    "\n",
    "以下では、機械翻訳同様サンプルテキストを入力済みですが、上記機械翻訳結果を文章で抽出し、入力テキストに設定してみましょう。\n",
    "\n",
    "このように、音声認識〜機械翻訳〜音声合成 を連携して実行させることで、音声翻訳機能を実現することができます。"
   ]
  },
  {
   "cell_type": "code",
   "execution_count": null,
   "metadata": {
    "colab": {},
    "colab_type": "code",
    "id": "G93MJDWFxMfY"
   },
   "outputs": [],
   "source": [
    "headers = {\n",
    "    'Authorization': 'Bearer {}'.format(token),\n",
    "}\n",
    "\n",
    "data = {\n",
    "    'lang': 'ja',\n",
    "    'engine': 'nict',\n",
    "    'text': 'ちょっと遅い昼食をとるためファミリーレストランに入ったのです。',\n",
    "}\n",
    "\n",
    "url = 'https://tts.mimi.fd.ai/speech_synthesis'\n",
    "resp = requests.post(url, headers=headers, data=data)\n",
    "if resp.status_code == 200:\n",
    "  with open('resp.wav', 'wb') as fout:\n",
    "    fout.write(resp.content)\n",
    "    \"speech synthesis succeeded.\"\n",
    "else:\n",
    "  resp.json()"
   ]
  },
  {
   "cell_type": "markdown",
   "metadata": {
    "colab_type": "text",
    "id": "uVK0SwF_JVN6"
   },
   "source": [
    "取得した合成音声を再生するには以下を実行します。"
   ]
  },
  {
   "cell_type": "code",
   "execution_count": null,
   "metadata": {
    "colab": {},
    "colab_type": "code",
    "id": "B1Yr8kpT0Juv"
   },
   "outputs": [],
   "source": [
    "from IPython.display import Audio\n",
    "Audio('resp.wav')"
   ]
  },
  {
   "cell_type": "markdown",
   "metadata": {
    "colab_type": "text",
    "id": "3ECpvH3D11ZF"
   },
   "source": [
    "# おわりに\n",
    "\n",
    "もし、音声認識・機械翻訳・音声合成の機能にご興味を持っていただけましたら、ぜひ弊社フェアリーデバイセズ株式会社へお問い合わせください。\n",
    "\n",
    "コーポレートサイト：\n",
    "http://www.fairydevices.jp/"
   ]
  }
 ],
 "metadata": {
  "colab": {
   "collapsed_sections": [],
   "name": "mimiで音声認識・翻訳・合成の流れを体感する",
   "provenance": [],
   "version": "0.3.2"
  },
  "kernelspec": {
   "display_name": "Python 3",
   "language": "python",
   "name": "python3"
  }
 },
 "nbformat": 4,
 "nbformat_minor": 2
}
